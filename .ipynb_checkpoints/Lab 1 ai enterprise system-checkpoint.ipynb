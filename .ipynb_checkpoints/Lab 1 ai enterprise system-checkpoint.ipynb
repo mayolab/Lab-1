{
 "cells": [
  {
   "cell_type": "code",
   "execution_count": 4,
   "id": "f64c64b6",
   "metadata": {},
   "outputs": [
    {
     "name": "stdout",
     "output_type": "stream",
     "text": [
      "\"\n",
      "Welcome to AI enterprise system\n",
      "\n",
      "            ___\n",
      "        /  .  . \\\n",
      "        \\   ------<\n",
      "         \\      /\n",
      "          \\    /\n",
      "          /   /\n",
      " ________/   /\n",
      " __________ /\n",
      "    \n",
      "\n"
     ]
    }
   ],
   "source": [
    "happy_snake = 1\n",
    "snake_string = \"\"\"\"\n",
    "Welcome to AI enterprise system\n",
    "\n",
    "            ___\n",
    "        /  .  . \\\\\n",
    "        \\   ------<\n",
    "         \\      /\n",
    "          \\    /\n",
    "          /   /\n",
    " ________/   /\n",
    " __________ /\n",
    "    \n",
    "\"\"\"\"\"\n",
    "\n",
    "print (happy_snake * snake_string)\n",
    "            "
   ]
  },
  {
   "cell_type": "code",
   "execution_count": 17,
   "id": "95a0365c",
   "metadata": {},
   "outputs": [
    {
     "name": "stdout",
     "output_type": "stream",
     "text": [
      "['Rick Sanchez', 'Summer Smith', 'Beth Smith']\n"
     ]
    }
   ],
   "source": [
    "scores = {\n",
    "             \"Rick Sanchez\": 70,\n",
    "             \"Morty Smith\": 35,\n",
    "             \"Summer Smith\": 82,\n",
    "             \"Jerry Smith\": 23,\n",
    "             \"Beth Smith\": 98\n",
    "          }\n",
    "\n",
    "passed = [name for name, score in scores.items() if score >= 65]\n",
    "print(passed)"
   ]
  },
  {
   "cell_type": "code",
   "execution_count": null,
   "id": "afef558e",
   "metadata": {},
   "outputs": [],
   "source": []
  }
 ],
 "metadata": {
  "kernelspec": {
   "display_name": "Python 3 (ipykernel)",
   "language": "python",
   "name": "python3"
  },
  "language_info": {
   "codemirror_mode": {
    "name": "ipython",
    "version": 3
   },
   "file_extension": ".py",
   "mimetype": "text/x-python",
   "name": "python",
   "nbconvert_exporter": "python",
   "pygments_lexer": "ipython3",
   "version": "3.11.5"
  }
 },
 "nbformat": 4,
 "nbformat_minor": 5
}
